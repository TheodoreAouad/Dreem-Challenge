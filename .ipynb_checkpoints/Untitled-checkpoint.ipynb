{
 "cells": [
  {
   "cell_type": "code",
   "execution_count": 2,
   "metadata": {},
   "outputs": [],
   "source": [
    "import h5py\n",
    "import numpy as np\n",
    "import matplotlib.pyplot as plt\n",
    "import csv\n",
    "import time"
   ]
  },
  {
   "cell_type": "markdown",
   "metadata": {},
   "source": [
    "### Importation of the data"
   ]
  },
  {
   "cell_type": "code",
   "execution_count": 10,
   "metadata": {},
   "outputs": [],
   "source": [
    "data = h5py.File(\"data/train.h5\",\"r\")"
   ]
  },
  {
   "cell_type": "code",
   "execution_count": 14,
   "metadata": {},
   "outputs": [
    {
     "name": "stdout",
     "output_type": "stream",
     "text": [
      "0.7928793430328369\n",
      "0.7958717346191406\n"
     ]
    }
   ],
   "source": [
    "#max number of samples: 38289\n",
    "num_samples = 1000\n",
    "\n",
    "t1 = time.time()\n",
    "#training data\n",
    "if num_samples:\n",
    "    accX = data['accelerometer_x'][:num_samples]\n",
    "    accY = data['accelerometer_y'][:num_samples]\n",
    "    accZ = data['accelerometer_z'][:num_samples]\n",
    "    eeg1 = data['eeg_1'][:num_samples]\n",
    "    eeg2 = data['eeg_2'][:num_samples]\n",
    "    eeg3 = data['eeg_3'][:num_samples]\n",
    "    eeg4 = data['eeg_4'][:num_samples]\n",
    "    eeg5 = data['eeg_5'][:num_samples]\n",
    "    eeg6 = data['eeg_6'][:num_samples]\n",
    "    eeg7 = data['eeg_7'][:num_samples]\n",
    "    pulse = data['pulse_oximeter_infrared'][:num_samples]\n",
    "else: \n",
    "    accX = data['accelerometer_x']\n",
    "    accY = data['accelerometer_y']\n",
    "    accZ = data['accelerometer_z']\n",
    "    eeg1 = data['eeg_1']\n",
    "    eeg2 = data['eeg_2']\n",
    "    eeg3 = data['eeg_3']\n",
    "    eeg4 = data['eeg_4']\n",
    "    eeg5 = data['eeg_5']\n",
    "    eeg6 = data['eeg_6']\n",
    "    eeg7 = data['eeg_7']\n",
    "    pulse = data['pulse_oximeter_infrared']\n",
    "print(time.time()-t1)\n",
    "\n",
    "\n",
    "#training label\n",
    "Y = -1*np.ones(num_samples_tr).astype(int)\n",
    "with open('data/train_y.csv') as csv_file:\n",
    "    csv_reader = csv.reader(csv_file, delimiter=',')\n",
    "    csv_reader.__next__()\n",
    "    for i,row in enumerate(csv_reader):\n",
    "        if i == num_samples:\n",
    "            break\n",
    "        Y[i] = int(row[1])\n",
    "print(time.time()-t1)"
   ]
  },
  {
   "cell_type": "markdown",
   "metadata": {},
   "source": [
    "### Preprocessing the data"
   ]
  },
  {
   "cell_type": "code",
   "execution_count": null,
   "metadata": {},
   "outputs": [],
   "source": []
  },
  {
   "cell_type": "markdown",
   "metadata": {},
   "source": [
    "### Feature extracting"
   ]
  },
  {
   "cell_type": "code",
   "execution_count": 21,
   "metadata": {},
   "outputs": [],
   "source": [
    "D = [accX,accY,accZ,eeg1,eeg2,eeg3,eeg4,eeg5,eeg6,eeg7,pulse]"
   ]
  },
  {
   "cell_type": "markdown",
   "metadata": {},
   "source": [
    "### Separation training - testing set"
   ]
  },
  {
   "cell_type": "code",
   "execution_count": 20,
   "metadata": {},
   "outputs": [],
   "source": [
    "num_train = int(num_samples/2)\n",
    "num_test = num_samples-num_train\n",
    "\n",
    "Dtr = []; Dtest = []\n",
    "Ytr = Y[:num_train]\n",
    "Ytest = Y[num_train:]\n",
    "\n",
    "for feature in D:\n",
    "    Dtr.append(feature[:num_train])\n",
    "    Dtest.append(feature[num_train:])"
   ]
  },
  {
   "cell_type": "markdown",
   "metadata": {},
   "source": [
    "### Model"
   ]
  },
  {
   "cell_type": "code",
   "execution_count": null,
   "metadata": {},
   "outputs": [],
   "source": []
  },
  {
   "cell_type": "markdown",
   "metadata": {},
   "source": [
    "### Evaluation "
   ]
  },
  {
   "cell_type": "code",
   "execution_count": 86,
   "metadata": {},
   "outputs": [
    {
     "data": {
      "text/plain": [
       "0.1838114641879661"
      ]
     },
     "execution_count": 86,
     "metadata": {},
     "output_type": "execute_result"
    }
   ],
   "source": [
    "#compute the mean f1-score\n",
    "\n",
    "Ypred = np.random.randint(0,5,size = num_test)\n",
    "f1 = np.zeros(5)\n",
    "for i in range(5):\n",
    "    if (Ypred == i).sum():\n",
    "        tp = np.sum((Ypred == Ytest)[Ypred == i])\n",
    "        fp = np.sum((Ypred != Ytest)[Ypred == i])\n",
    "        fn = np.sum((Ypred != Ytest)[Ytest == i])\n",
    "        p = tp/(tp + fp)\n",
    "        r = tp/(tp + fn)\n",
    "        f1[i] = 2* (p*r)/(p+r)\n",
    "\n",
    "f1score = f1[f1 != 0].mean()\n",
    "f1score"
   ]
  },
  {
   "cell_type": "code",
   "execution_count": null,
   "metadata": {},
   "outputs": [],
   "source": []
  },
  {
   "cell_type": "markdown",
   "metadata": {},
   "source": [
    "### Writing the submission file"
   ]
  },
  {
   "cell_type": "code",
   "execution_count": 58,
   "metadata": {},
   "outputs": [],
   "source": [
    "#produces the CSV file to submit\n",
    "\n",
    "Y_val = Y\n",
    "num_samples_val = Y_val.shape[0]\n",
    "with open('tosubmit.csv', 'w', newline = '') as csvfile:\n",
    "    writer = csv.writer(csvfile, dialect = \"excel\")\n",
    "    writer.writerow([\"id\",\"sleep_stage\"])\n",
    "    for i in range(num_samples_val):\n",
    "        writer.writerow([i,Y_val[i]])"
   ]
  }
 ],
 "metadata": {
  "kernelspec": {
   "display_name": "Python 3",
   "language": "python",
   "name": "python3"
  },
  "language_info": {
   "codemirror_mode": {
    "name": "ipython",
    "version": 3
   },
   "file_extension": ".py",
   "mimetype": "text/x-python",
   "name": "python",
   "nbconvert_exporter": "python",
   "pygments_lexer": "ipython3",
   "version": "3.7.0"
  }
 },
 "nbformat": 4,
 "nbformat_minor": 2
}
