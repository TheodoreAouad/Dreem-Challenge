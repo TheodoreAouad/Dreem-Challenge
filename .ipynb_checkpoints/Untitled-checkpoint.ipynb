{
 "cells": [
  {
   "cell_type": "code",
   "execution_count": 195,
   "metadata": {},
   "outputs": [],
   "source": [
    "import h5py\n",
    "import numpy as np\n",
    "import matplotlib.pyplot as plt\n",
    "import csv\n",
    "import time\n",
    "from sklearn.ensemble import RandomForestClassifier\n",
    "from tqdm import tqdm"
   ]
  },
  {
   "cell_type": "markdown",
   "metadata": {},
   "source": [
    "### Importation of the data"
   ]
  },
  {
   "cell_type": "code",
   "execution_count": 10,
   "metadata": {},
   "outputs": [],
   "source": [
    "data = h5py.File(\"data/train.h5\",\"r\")"
   ]
  },
  {
   "cell_type": "code",
   "execution_count": 206,
   "metadata": {},
   "outputs": [
    {
     "name": "stdout",
     "output_type": "stream",
     "text": [
      "0.000997781753540039\n",
      "0.0378718376159668\n"
     ]
    }
   ],
   "source": [
    "#put 0 to take everything\n",
    "num_samples = 0\n",
    "\n",
    "t1 = time.time()\n",
    "#data\n",
    "if num_samples:\n",
    "    accX = data['accelerometer_x'][:num_samples]\n",
    "    accY = data['accelerometer_y'][:num_samples]\n",
    "    accZ = data['accelerometer_z'][:num_samples]\n",
    "    eeg1 = data['eeg_1'][:num_samples]\n",
    "    eeg2 = data['eeg_2'][:num_samples]\n",
    "    eeg3 = data['eeg_3'][:num_samples]\n",
    "    eeg4 = data['eeg_4'][:num_samples]\n",
    "    eeg5 = data['eeg_5'][:num_samples]\n",
    "    eeg6 = data['eeg_6'][:num_samples]\n",
    "    eeg7 = data['eeg_7'][:num_samples]\n",
    "    pulse = data['pulse_oximeter_infrared'][:num_samples]\n",
    "else: \n",
    "    accX = data['accelerometer_x']\n",
    "    accY = data['accelerometer_y']\n",
    "    accZ = data['accelerometer_z']\n",
    "    eeg1 = data['eeg_1']\n",
    "    eeg2 = data['eeg_2']\n",
    "    eeg3 = data['eeg_3']\n",
    "    eeg4 = data['eeg_4']\n",
    "    eeg5 = data['eeg_5']\n",
    "    eeg6 = data['eeg_6']\n",
    "    eeg7 = data['eeg_7']\n",
    "    pulse = data['pulse_oximeter_infrared']\n",
    "print(time.time()-t1)\n",
    "\n",
    "if num_samples == 0:\n",
    "    num_samples = accX.shape[0]\n",
    "\n",
    "#label\n",
    "Y = -1*np.ones(num_samples).astype(int)\n",
    "with open('data/train_y.csv') as csv_file:\n",
    "    csv_reader = csv.reader(csv_file, delimiter=',')\n",
    "    csv_reader.__next__()\n",
    "    for i,row in enumerate(csv_reader):\n",
    "        if i == num_samples:\n",
    "            break\n",
    "        Y[i] = int(row[1])\n",
    "print(time.time()-t1)\n",
    "\n"
   ]
  },
  {
   "cell_type": "code",
   "execution_count": 207,
   "metadata": {},
   "outputs": [
    {
     "data": {
      "text/plain": [
       "(38289,)"
      ]
     },
     "execution_count": 207,
     "metadata": {},
     "output_type": "execute_result"
    }
   ],
   "source": [
    "Y.shape"
   ]
  },
  {
   "cell_type": "markdown",
   "metadata": {},
   "source": [
    "### Preprocessing the data"
   ]
  },
  {
   "cell_type": "code",
   "execution_count": 95,
   "metadata": {},
   "outputs": [
    {
     "data": {
      "text/plain": [
       "[<matplotlib.lines.Line2D at 0x25280708160>]"
      ]
     },
     "execution_count": 95,
     "metadata": {},
     "output_type": "execute_result"
    },
    {
     "data": {
      "image/png": "[encoded data removed]",
      "text/plain": [
       "<Figure size 432x288 with 1 Axes>"
      ]
     },
     "metadata": {
      "needs_background": "light"
     },
     "output_type": "display_data"
    }
   ],
   "source": [
    "##DEFINE THE PREPROCESSING\n",
    "\n",
    "plt.plot(eeg1[3])"
   ]
  },
  {
   "cell_type": "markdown",
   "metadata": {},
   "source": [
    "### Feature extraction"
   ]
  },
  {
   "cell_type": "code",
   "execution_count": 217,
   "metadata": {},
   "outputs": [],
   "source": [
    "##in this cell, we extract: mean, mean of abs, max abs, min abs\n",
    "def base_extract(signals):\n",
    "    D = np.zeros((signals[0].shape[0],4*11))\n",
    "    for i,s in tqdm(enumerate(signals)):\n",
    "        s = s[:s.shape[0]]\n",
    "        D[:,4*i] = s.mean(1)\n",
    "        D[:,4*i +1] = np.abs(s).mean(1)\n",
    "        D[:,4*i +2] = np.abs(s).max(1)\n",
    "        D[:,4*i +3] = np.abs(s).min(1)\n",
    "    return D"
   ]
  },
  {
   "cell_type": "code",
   "execution_count": 214,
   "metadata": {},
   "outputs": [
    {
     "name": "stderr",
     "output_type": "stream",
     "text": [
      "11it [00:58,  5.61s/it]\n"
     ]
    },
    {
     "name": "stdout",
     "output_type": "stream",
     "text": [
      "58.258556604385376\n"
     ]
    }
   ],
   "source": [
    "t1 = time.time()\n",
    "\n",
    "signals = [accX,accY,accZ,eeg1,eeg2,eeg3,eeg4,eeg5,eeg6,eeg7,pulse]\n",
    "D = base_extract(signals)\n",
    "\n",
    "print(time.time()-t1)"
   ]
  },
  {
   "cell_type": "markdown",
   "metadata": {},
   "source": [
    "### Separation training - testing set"
   ]
  },
  {
   "cell_type": "code",
   "execution_count": 208,
   "metadata": {},
   "outputs": [],
   "source": [
    "num_train = int(num_samples/2)\n",
    "num_test = num_samples-num_train\n",
    "\n",
    "\n",
    "\n",
    "Dtr = D[:num_train]\n",
    "Dtest = D[num_train:]\n",
    "Ytr = Y[:num_train]\n",
    "Ytest = Y[num_train:]\n"
   ]
  },
  {
   "cell_type": "markdown",
   "metadata": {},
   "source": [
    "### Model"
   ]
  },
  {
   "cell_type": "code",
   "execution_count": 252,
   "metadata": {},
   "outputs": [],
   "source": [
    "##define the model\n",
    "ntree = 50\n",
    "class model(RandomForestClassifier):\n",
    "    \n",
    "    def __init__(self):\n",
    "        RandomForestClassifier.__init__(self,n_estimators=ntree)"
   ]
  },
  {
   "cell_type": "code",
   "execution_count": 253,
   "metadata": {},
   "outputs": [
    {
     "name": "stdout",
     "output_type": "stream",
     "text": [
      "6.364992380142212\n",
      "6.617291212081909\n"
     ]
    }
   ],
   "source": [
    "t1 = time.time()\n",
    "\n",
    "rf = model()\n",
    "rf.fit(Dtr,Ytr)\n",
    "print(time.time()-t1)\n",
    "\n",
    "Ypred = rf.predict(Dtest)\n",
    "print(time.time()-t1)"
   ]
  },
  {
   "cell_type": "markdown",
   "metadata": {},
   "source": [
    "### Evaluation "
   ]
  },
  {
   "cell_type": "code",
   "execution_count": 255,
   "metadata": {},
   "outputs": [
    {
     "data": {
      "text/plain": [
       "0.4973040815792623"
      ]
     },
     "execution_count": 255,
     "metadata": {},
     "output_type": "execute_result"
    }
   ],
   "source": [
    "#compute the mean f1-score\n",
    "\n",
    "#Ypred = np.random.randint(0,5,size = num_test)\n",
    "f1 = -1*np.ones(5)\n",
    "f1score = -1\n",
    "for i in range(5):\n",
    "    if (Ypred == i).sum():\n",
    "        tp = np.sum((Ypred == Ytest)[Ypred == i])\n",
    "        fp = np.sum((Ypred != Ytest)[Ypred == i])\n",
    "        fn = np.sum((Ypred != Ytest)[Ytest == i])\n",
    "        p = tp/(tp + fp)\n",
    "        r = tp/(tp + fn)\n",
    "        if p+r != 0: f1[i] = 2* (p*r)/(p+r)\n",
    "        else: f1[i] = 0\n",
    "\n",
    "f1score = f1[f1 != -1].mean()\n",
    "f1score"
   ]
  },
  {
   "cell_type": "code",
   "execution_count": null,
   "metadata": {},
   "outputs": [],
   "source": []
  },
  {
   "cell_type": "markdown",
   "metadata": {},
   "source": [
    "### Writing the submission file"
   ]
  },
  {
   "cell_type": "code",
   "execution_count": 184,
   "metadata": {},
   "outputs": [],
   "source": [
    "#Import the test data\n",
    "data_test = h5py.File(\"data/test.h5\",'r')\n",
    "\n",
    "accX_val = data_test['accelerometer_x']\n",
    "accY_val = data_test['accelerometer_y']\n",
    "accZ_val = data_test['accelerometer_z']\n",
    "eeg1_val = data_test['eeg_1']\n",
    "eeg2_val = data_test['eeg_2']\n",
    "eeg3_val = data_test['eeg_3']\n",
    "eeg4_val = data_test['eeg_4']\n",
    "eeg5_val = data_test['eeg_5']\n",
    "eeg6_val = data_test['eeg_6']\n",
    "eeg7_val = data_test['eeg_7']\n",
    "pulse_val = data_test['pulse_oximeter_infrared']"
   ]
  },
  {
   "cell_type": "code",
   "execution_count": 218,
   "metadata": {},
   "outputs": [
    {
     "name": "stderr",
     "output_type": "stream",
     "text": [
      "11it [00:53,  4.86s/it]\n"
     ]
    }
   ],
   "source": [
    "#Exctracting features\n",
    "signals_val = [accX_val,accY_val,accZ_val,eeg1_val,eeg2_val,eeg3_val,eeg4_val,eeg5_val,eeg6_val,eeg7_val,pulse_val]\n",
    "Dval = base_extract(signals_val)"
   ]
  },
  {
   "cell_type": "code",
   "execution_count": 254,
   "metadata": {},
   "outputs": [
    {
     "name": "stdout",
     "output_type": "stream",
     "text": [
      "14.787454843521118\n",
      "15.310057640075684\n"
     ]
    }
   ],
   "source": [
    "#training the model on all the training data\n",
    "model_final = model()\n",
    "\n",
    "t1 = time.time()\n",
    "model_final.fit(D,Y)\n",
    "print(time.time()-t1)\n",
    "\n",
    "#predicting the test\n",
    "Y_val = model_final.predict(Dval)\n",
    "print(time.time()-t1)"
   ]
  },
  {
   "cell_type": "code",
   "execution_count": 251,
   "metadata": {},
   "outputs": [],
   "source": [
    "#produces the CSV file to submit\n",
    "\n",
    "num_samples_val = Y_val.shape[0]\n",
    "with open('tosubmit.csv', 'w', newline = '') as csvfile:\n",
    "    writer = csv.writer(csvfile, dialect = \"excel\")\n",
    "    writer.writerow([\"id\",\"sleep_stage\"])\n",
    "    for i in range(num_samples_val):\n",
    "        writer.writerow([i,Y_val[i]])"
   ]
  },
  {
   "cell_type": "code",
   "execution_count": null,
   "metadata": {},
   "outputs": [],
   "source": []
  }
 ],
 "metadata": {
  "kernelspec": {
   "display_name": "Python 3",
   "language": "python",
   "name": "python3"
  },
  "language_info": {
   "codemirror_mode": {
    "name": "ipython",
    "version": 3
   },
   "file_extension": ".py",
   "mimetype": "text/x-python",
   "name": "python",
   "nbconvert_exporter": "python",
   "pygments_lexer": "ipython3",
   "version": "3.7.0"
  }
 },
 "nbformat": 4,
 "nbformat_minor": 2
}
