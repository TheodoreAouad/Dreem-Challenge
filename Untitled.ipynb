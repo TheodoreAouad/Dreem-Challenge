{
 "cells": [
  {
   "cell_type": "code",
   "execution_count": 2,
   "metadata": {},
   "outputs": [],
   "source": [
    "import h5py\n",
    "import numpy as np\n",
    "import matplotlib.pyplot as plt\n",
    "import csv\n",
    "import time"
   ]
  },
  {
   "cell_type": "markdown",
   "metadata": {},
   "source": [
    "### Importing the data"
   ]
  },
  {
   "cell_type": "code",
   "execution_count": 10,
   "metadata": {},
   "outputs": [],
   "source": [
    "data = h5py.File(\"data/train.h5\",\"r\")"
   ]
  },
  {
   "cell_type": "code",
   "execution_count": 11,
   "metadata": {},
   "outputs": [
    {
     "name": "stdout",
     "output_type": "stream",
     "text": [
      "0.627349853515625\n",
      "0.6293442249298096\n"
     ]
    }
   ],
   "source": [
    "#max number of samples: 38289\n",
    "num_samples = 1000\n",
    "\n",
    "t1 = time.time()\n",
    "#training data\n",
    "if num_samples:\n",
    "    accX = data['accelerometer_x'][:num_samples]\n",
    "    accY = data['accelerometer_y'][:num_samples]\n",
    "    accZ = data['accelerometer_z'][:num_samples]\n",
    "    eeg1 = data['eeg_1'][:num_samples]\n",
    "    eeg2 = data['eeg_2'][:num_samples]\n",
    "    eeg3 = data['eeg_3'][:num_samples]\n",
    "    eeg4 = data['eeg_4'][:num_samples]\n",
    "    eeg5 = data['eeg_5'][:num_samples]\n",
    "    eeg6 = data['eeg_6'][:num_samples]\n",
    "    eeg7 = data['eeg_7'][:num_samples]\n",
    "    pulse = data['pulse_oximeter_infrared'][:num_samples]\n",
    "else: \n",
    "    accX = data['accelerometer_x']\n",
    "    accY = data['accelerometer_y']\n",
    "    accZ = data['accelerometer_z']\n",
    "    eeg1 = data['eeg_1']\n",
    "    eeg2 = data['eeg_2']\n",
    "    eeg3 = data['eeg_3']\n",
    "    eeg4 = data['eeg_4']\n",
    "    eeg5 = data['eeg_5']\n",
    "    eeg6 = data['eeg_6']\n",
    "    eeg7 = data['eeg_7']\n",
    "    pulse = data['pulse_oximeter_infrared']\n",
    "print(time.time()-t1)\n",
    "\n",
    "#training label\n",
    "Y = -1*np.ones(num_samples_tr).astype(int)\n",
    "with open('data/train_y.csv') as csv_file:\n",
    "    csv_reader = csv.reader(csv_file, delimiter=',')\n",
    "    csv_reader.__next__()\n",
    "    for i,row in enumerate(csv_reader):\n",
    "        if i == num_samples:\n",
    "            break\n",
    "        Y[i] = int(row[1])\n",
    "print(time.time()-t1)"
   ]
  },
  {
   "cell_type": "code",
   "execution_count": null,
   "metadata": {},
   "outputs": [],
   "source": []
  },
  {
   "cell_type": "markdown",
   "metadata": {},
   "source": [
    "### Writing the submission file"
   ]
  },
  {
   "cell_type": "code",
   "execution_count": 58,
   "metadata": {},
   "outputs": [],
   "source": [
    "#produces the CSV file to submit\n",
    "\n",
    "Y_val = Ytr\n",
    "num_samples_val = Y_val.shape[0]\n",
    "with open('tosubmit.csv', 'w', newline = '') as csvfile:\n",
    "    writer = csv.writer(csvfile, dialect = \"excel\")\n",
    "    writer.writerow([\"id\",\"sleep_stage\"])\n",
    "    for i in range(num_samples_val):\n",
    "        writer.writerow([i,Y_val[i]])"
   ]
  }
 ],
 "metadata": {
  "kernelspec": {
   "display_name": "Python 3",
   "language": "python",
   "name": "python3"
  },
  "language_info": {
   "codemirror_mode": {
    "name": "ipython",
    "version": 3
   },
   "file_extension": ".py",
   "mimetype": "text/x-python",
   "name": "python",
   "nbconvert_exporter": "python",
   "pygments_lexer": "ipython3",
   "version": "3.7.0"
  }
 },
 "nbformat": 4,
 "nbformat_minor": 2
}
