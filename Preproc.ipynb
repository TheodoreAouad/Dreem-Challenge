{
  "nbformat": 4,
  "nbformat_minor": 0,
  "metadata": {
    "colab": {
      "name": "Untitled.ipynb",
      "version": "0.3.2",
      "provenance": [],
      "collapsed_sections": [],
      "toc_visible": true
    },
    "kernelspec": {
      "name": "python3",
      "display_name": "Python 3"
    },
    "accelerator": "GPU"
  },
  "cells": [
    {
      "metadata": {
        "id": "EAl4kLLg3nn9",
        "colab_type": "text"
      },
      "cell_type": "markdown",
      "source": [
        "# Download the data"
      ]
    },
    {
      "metadata": {
        "id": "_9XEjPuv3hIB",
        "colab_type": "code",
        "colab": {}
      },
      "cell_type": "code",
      "source": [
        "import os\n",
        "from getpass import getpass\n",
        "user = getpass('Kaggle Username: ')\n",
        "key = getpass('Kaggle API key: ')\n",
        "\n",
        "if '.kaggle' not in os.listdir('/root'):\n",
        "    !mkdir ~/.kaggle\n",
        "!touch /root/.kaggle/kaggle.json\n",
        "!chmod 666 /root/.kaggle/kaggle.json\n",
        "with open('/root/.kaggle/kaggle.json', 'w') as f:\n",
        "    f.write('{\"username\":\"%s\",\"key\":\"%s\"}' % (user, key))\n",
        "!chmod 600 /root/.kaggle/kaggle.json"
      ],
      "execution_count": 0,
      "outputs": []
    },
    {
      "metadata": {
        "id": "8eB0ttnm3mvh",
        "colab_type": "code",
        "colab": {}
      },
      "cell_type": "code",
      "source": [
        "!mkdir data\n",
        "%cd data\n",
        "!kaggle competitions download -c dreem-sleep-stages\n",
        "!unzip test.h5\n",
        "!unzip train.h5\n",
        "%cd .."
      ],
      "execution_count": 0,
      "outputs": []
    },
    {
      "metadata": {
        "id": "jKbcR1ZH32dY",
        "colab_type": "text"
      },
      "cell_type": "markdown",
      "source": [
        "#Beginning of the code"
      ]
    },
    {
      "metadata": {
        "id": "V6e9BNebrTMk",
        "colab_type": "code",
        "colab": {}
      },
      "cell_type": "code",
      "source": [
        "import h5py\n",
        "import numpy as np\n",
        "import matplotlib.pyplot as plt\n",
        "import csv\n",
        "import time\n",
        "from sklearn.ensemble import RandomForestClassifier\n",
        "from sklearn import svm\n",
        "from sklearn.utils import shuffle\n",
        "from sklearn.decomposition import PCA\n",
        "from tqdm import tqdm\n",
        "from scipy import signal"
      ],
      "execution_count": 0,
      "outputs": []
    },
    {
      "metadata": {
        "id": "7X21t6O9rTMu",
        "colab_type": "text"
      },
      "cell_type": "markdown",
      "source": [
        "### Importation of the data"
      ]
    },
    {
      "metadata": {
        "id": "KHqiPr3brTMv",
        "colab_type": "code",
        "colab": {}
      },
      "cell_type": "code",
      "source": [
        "data = h5py.File(\"data/train.h5\",\"r\")"
      ],
      "execution_count": 0,
      "outputs": []
    },
    {
      "metadata": {
        "id": "w8oZvROurTMz",
        "colab_type": "code",
        "outputId": "6d0fb9b2-901a-4190-930d-54b31cb423cb",
        "colab": {
          "base_uri": "https://localhost:8080/",
          "height": 50
        }
      },
      "cell_type": "code",
      "source": [
        "num_samples = 0\n",
        "\n",
        "t1 = time.time()\n",
        "#data\n",
        "if num_samples:\n",
        "    accX = data['accelerometer_x'][:num_samples]\n",
        "    accY = data['accelerometer_y'][:num_samples]\n",
        "    accZ = data['accelerometer_z'][:num_samples]\n",
        "    eeg1 = data['eeg_1'][:num_samples]\n",
        "    eeg2 = data['eeg_2'][:num_samples]\n",
        "    eeg3 = data['eeg_3'][:num_samples]\n",
        "    eeg4 = data['eeg_4'][:num_samples]\n",
        "    eeg5 = data['eeg_5'][:num_samples]\n",
        "    eeg6 = data['eeg_6'][:num_samples]\n",
        "    eeg7 = data['eeg_7'][:num_samples]\n",
        "    pulse = data['pulse_oximeter_infrared'][:num_samples]\n",
        "else: \n",
        "    accX = data['accelerometer_x']\n",
        "    accY = data['accelerometer_y']\n",
        "    accZ = data['accelerometer_z']\n",
        "    eeg1 = data['eeg_1']\n",
        "    eeg2 = data['eeg_2']\n",
        "    eeg3 = data['eeg_3']\n",
        "    eeg4 = data['eeg_4']\n",
        "    eeg5 = data['eeg_5']\n",
        "    eeg6 = data['eeg_6']\n",
        "    eeg7 = data['eeg_7']\n",
        "    pulse = data['pulse_oximeter_infrared']\n",
        "print(time.time()-t1)\n",
        "\n",
        "if num_samples == 0:\n",
        "    num_samples = accX.shape[0]\n",
        "\n",
        "#label\n",
        "Y = -1*np.ones(num_samples).astype(int)\n",
        "with open('data/train_y.csv') as csv_file:\n",
        "    csv_reader = csv.reader(csv_file, delimiter=',')\n",
        "    csv_reader.__next__()\n",
        "    for i,row in enumerate(csv_reader):\n",
        "        if i == num_samples:\n",
        "            break\n",
        "        Y[i] = int(row[1])\n",
        "print(time.time()-t1)\n",
        "\n"
      ],
      "execution_count": 0,
      "outputs": [
        {
          "output_type": "stream",
          "text": [
            "0.005113124847412109\n",
            "0.05380892753601074\n"
          ],
          "name": "stdout"
        }
      ]
    },
    {
      "metadata": {
        "id": "PvLh5bUErTM5",
        "colab_type": "code",
        "outputId": "ed51b7ad-932d-4297-d93f-4e01a47ba069",
        "colab": {
          "base_uri": "https://localhost:8080/",
          "height": 34
        }
      },
      "cell_type": "code",
      "source": [
        "450*11"
      ],
      "execution_count": 0,
      "outputs": [
        {
          "output_type": "execute_result",
          "data": {
            "text/plain": [
              "4950"
            ]
          },
          "metadata": {
            "tags": []
          },
          "execution_count": 7
        }
      ]
    },
    {
      "metadata": {
        "id": "rEP4F8z7rTM8",
        "colab_type": "text"
      },
      "cell_type": "markdown",
      "source": [
        "### Preprocessing the data"
      ]
    },
    {
      "metadata": {
        "id": "OXsHPl-MrTM9",
        "colab_type": "code",
        "colab": {}
      },
      "cell_type": "code",
      "source": [
        "def filt_band(s,w):\n",
        "    fs = s.shape[0]/30\n",
        "    fso2 = fs/2\n",
        "    b,a = signal.iirfilter(4, Wn = [w[0]/fso2,w[1]/fso2],btype = \"band\")\n",
        "    return signal.lfilter(b,a,s)\n",
        "\n",
        "def filt_low(s,w):\n",
        "    fs = s.shape[0]/30\n",
        "    fso2 = fs/2\n",
        "    t1 = time.time()\n",
        "    b,a = signal.iirfilter(4,Wn = w/fso2,btype = \"lowpass\")\n",
        "    return signal.lfilter(b,a,s)\n",
        "\n",
        "def filt_high(s,w):\n",
        "    fs = s.shape[0]/30\n",
        "    fso2 = fs/2\n",
        "    b,a = signal.iirfilter(4,Wn = w/fso2,btype = \"highpass\")\n",
        "    return signal.lfilter(b,a,s)"
      ],
      "execution_count": 0,
      "outputs": []
    },
    {
      "metadata": {
        "id": "Q2UZp4dcrTM_",
        "colab_type": "code",
        "colab": {}
      },
      "cell_type": "code",
      "source": [
        "from IPython.display import clear_output\n",
        "\n",
        "def preproc(signal):\n",
        "    P = np.zeros((3,signal.shape[0]))\n",
        "    P[0] = filt_low(signal,10)\n",
        "    P[1] = filt_band(signal,[10,20])\n",
        "    P[2] = filt_high(signal,20)\n",
        "    #P[3] = filt_band(signal,[13,22])\n",
        "    #P[4] = filt_high(signal,22)\n",
        "    return P\n",
        "\n",
        "def proc(signals, viz = False):\n",
        "    n = signals[0].shape[0]\n",
        "    delta = np.zeros((7,n,signals[0].shape[1]))\n",
        "    theta = np.zeros((7,n,signals[0].shape[1]))\n",
        "    alpha = np.zeros((7,n,signals[0].shape[1]))\n",
        "    #beta = np.zeros((7,n,signals[0].shape[1]))\n",
        "    #gamma = np.zeros((7,n,signals[0].shape[1]))\n",
        "    #print(\"Matrixes loaded\")\n",
        "    t1 = time.time()\n",
        "    for j, signal in enumerate(signals):\n",
        "        signal = signal[:signal.shape[0]]\n",
        "        for i,s in enumerate(signal):\n",
        "            if i%100 ==1 and viz:\n",
        "                clear_output()\n",
        "                t2 = round(time.time()-t1)\n",
        "                print(\"Time: %s s / %s s. Time for 1 filter: %s\" % (t2, round(num_samples*7*t2/(i+num_samples*j)), (7*t2/(i+num_samples*j))))\n",
        "                print(j,round(100*(i+j*num_samples)/(num_samples*7),1),\"%\")\n",
        "            delta[j,i],theta[j,i],alpha[j,i] = preproc(s)\n",
        "            #,beta[j,i],gamma[j,i] = preproc(s)\n",
        "            \n",
        "    return delta,theta,alpha#,beta,gamma"
      ],
      "execution_count": 0,
      "outputs": []
    },
    {
      "metadata": {
        "scrolled": true,
        "id": "9OEz2k8DrTNC",
        "colab_type": "code",
        "outputId": "71fe972e-4099-4474-dc81-98be359f4158",
        "colab": {
          "base_uri": "https://localhost:8080/",
          "height": 50
        }
      },
      "cell_type": "code",
      "source": [
        "signals = [eeg1,eeg2,eeg3,eeg4,eeg5,eeg6,eeg7]\n",
        "P = proc(signals,True)\n",
        "\n",
        "num_proc = len(P)"
      ],
      "execution_count": 0,
      "outputs": [
        {
          "output_type": "stream",
          "text": [
            "Time: 322 s / 322 s. Time for 1 filter: 0.008412488103457929\n",
            "6 100.0 %\n"
          ],
          "name": "stdout"
        }
      ]
    },
    {
      "metadata": {
        "id": "1e47KwqhrTNN",
        "colab_type": "text"
      },
      "cell_type": "markdown",
      "source": [
        "### Feature extraction"
      ]
    },
    {
      "metadata": {
        "id": "iHPEp8R3rTNO",
        "colab_type": "code",
        "colab": {}
      },
      "cell_type": "code",
      "source": [
        "def mmd(signal,lambd = -1):\n",
        "    samples = signal.shape[1]\n",
        "    if lambd == -1:\n",
        "        if samples < 10000: lambd = 100\n",
        "        else: lambd = int(10**(np.log10(samples)-1))\n",
        "    mmd = np.zeros((signal.shape[0],int(samples/lambd)))\n",
        "    for i in range(int(samples/lambd)):\n",
        "        temp = signal[:,i*lambd:(i+1)*lambd]\n",
        "        ymax = temp.max(1)\n",
        "        ymin = temp.min(1)\n",
        "        tmax = temp.argmax(1)\n",
        "        tmin = temp.argmin(1)\n",
        "        mmd[:,i] = np.sqrt((ymax-ymin)**2+(tmax-tmin)**2)\n",
        "    return np.abs(mmd).sum(1)\n",
        "\n",
        "  \n",
        "def esis(signal, f,lambd = -1):\n",
        "    samples = signal.shape[1]\n",
        "    if lambd == -1:\n",
        "        if samples < 10000: lambd = 100\n",
        "        else: lambd = int(10**(np.log10(samples)-1))\n",
        "    return np.abs(signal).sum() * f*lambd\n",
        "    \n",
        "\n",
        "\n",
        "def base_extract(signals):\n",
        "    D = np.zeros((signals[0].shape[0],4*11))\n",
        "    for i,s1 in tqdm(enumerate(signals)):\n",
        "        s = np.copy(s1[:s1.shape[0]])\n",
        "        D[:,4*i] = s.mean(1)\n",
        "        D[:,4*i +1] = np.abs(s).mean(1)\n",
        "        D[:,4*i +2] = np.abs(s).max(1)\n",
        "        D[:,4*i +3] = np.abs(s).min(1)\n",
        "    return D\n",
        "\n",
        "def feat_extract(signals, do_pca = -1):\n",
        "    nb_feat = int(5*4+7*3*2)\n",
        "    D = np.zeros((signals[0].shape[0],nb_feat))\n",
        "    i = 0\n",
        "    num_s = 0\n",
        "    while i < D.shape[1] and num_s < len(signals):\n",
        "        s = np.copy(signals[num_s]); s = s[:s.shape[0]]\n",
        "        if num_s < 4:\n",
        "            D[:,i] = s.mean(1) ; i+=1\n",
        "            D[:,i] = np.abs(s).mean(1) ; i+=1\n",
        "            D[:,i] = np.abs(s).max(1) ; i+=1\n",
        "            D[:,i] = np.abs(s).min(1) ; i+=1\n",
        "            D[:,i] = s.std(1) ; i+=1\n",
        "        else:\n",
        "            D[:,i] = mmd(s) ; i+= 1\n",
        "            if num_s in range(4,4+7): f = 5\n",
        "            if num_s in range(4+7,4+2*7): f = 15\n",
        "            if num_s in range(4+2*7,4+3*7): f = 25\n",
        "            D[:,i] = esis(s,f) ; i+= 1\n",
        "        num_s += 1\n",
        "    \n",
        "    pca = None\n",
        "    if do_pca != -1:\n",
        "        pca = PCA()\n",
        "        pca.fit(D)\n",
        "        D = pca.transform(D)[:,pca.explained_variance_ratio_.cumsum() < do_pca]\n",
        "    return D, pca"
      ],
      "execution_count": 0,
      "outputs": []
    },
    {
      "metadata": {
        "id": "r_5InOsyrTNS",
        "colab_type": "code",
        "outputId": "27a5af20-6491-4cff-8e64-9937c707e11a",
        "colab": {
          "base_uri": "https://localhost:8080/",
          "height": 50
        }
      },
      "cell_type": "code",
      "source": [
        "t1 = time.time()\n",
        "\n",
        "signals = [accX,accY,accZ,pulse]\n",
        "for i in range(3):\n",
        "    for j in range(7):\n",
        "        signals.append(P[i][j])\n",
        "D, pca = feat_extract(signals,-1)\n",
        "print(time.time()-t1)\n",
        "print(D.shape)"
      ],
      "execution_count": 0,
      "outputs": [
        {
          "output_type": "stream",
          "text": [
            "35.499258041381836\n",
            "(38289, 62)\n"
          ],
          "name": "stdout"
        }
      ]
    },
    {
      "metadata": {
        "id": "zzham1OTrTNY",
        "colab_type": "text"
      },
      "cell_type": "markdown",
      "source": [
        "### Separation training - testing set"
      ]
    },
    {
      "metadata": {
        "id": "I71_wmqbrTNZ",
        "colab_type": "code",
        "colab": {}
      },
      "cell_type": "code",
      "source": [
        "num_train = int(num_samples/2)\n",
        "num_test = num_samples-num_train\n",
        "\n",
        "#D, Y = shuffle(D,Y)\n",
        "\n",
        "Dtr = D[:num_train]\n",
        "Dtest = D[num_train:]\n",
        "Ytr = Y[:num_train]\n",
        "Ytest = Y[num_train:]\n"
      ],
      "execution_count": 0,
      "outputs": []
    },
    {
      "metadata": {
        "id": "vVWwzjBxrTNd",
        "colab_type": "text"
      },
      "cell_type": "markdown",
      "source": [
        "### Model"
      ]
    },
    {
      "metadata": {
        "id": "RTZAJ3UwrTNe",
        "colab_type": "code",
        "colab": {}
      },
      "cell_type": "code",
      "source": [
        "##define the model\n",
        "\n",
        "class model(RandomForestClassifier):\n",
        "    \n",
        "    def __init__(self,ntree = 100):\n",
        "        RandomForestClassifier.__init__(self,n_estimators=ntree)"
      ],
      "execution_count": 0,
      "outputs": []
    },
    {
      "metadata": {
        "id": "xlgtirTjrTNh",
        "colab_type": "code",
        "outputId": "302a9f96-ec23-4cf7-adaa-32c7c6be3d39",
        "colab": {
          "base_uri": "https://localhost:8080/",
          "height": 50
        }
      },
      "cell_type": "code",
      "source": [
        "#random forest\n",
        "t1 = time.time()\n",
        "\n",
        "rf = model(100)\n",
        "rf.fit(Dtr,Ytr)\n",
        "print(time.time()-t1)\n",
        "\n",
        "Ypred = rf.predict(Dtest)\n",
        "print(time.time()-t1)"
      ],
      "execution_count": 0,
      "outputs": [
        {
          "output_type": "stream",
          "text": [
            "10.377704858779907\n",
            "10.861618995666504\n"
          ],
          "name": "stdout"
        }
      ]
    },
    {
      "metadata": {
        "id": "YD62PNn9rTNl",
        "colab_type": "code",
        "colab": {}
      },
      "cell_type": "code",
      "source": [
        "Yv = rf.predict(Dtr)"
      ],
      "execution_count": 0,
      "outputs": []
    },
    {
      "metadata": {
        "id": "HtRNGnBxrTNo",
        "colab_type": "code",
        "outputId": "2e60c65d-3ce9-458f-c146-f405fe1a4afe",
        "colab": {
          "base_uri": "https://localhost:8080/",
          "height": 104
        }
      },
      "cell_type": "code",
      "source": [
        "#svm\n",
        "t1 = time.time()\n",
        "\n",
        "svmcl = svm.SVC()\n",
        "svmcl.fit(Dtr,Ytr)\n",
        "print(time.time()-t1)\n",
        "\n",
        "Ypred = svmcl.predict(Dtest)\n",
        "print(time.time()-t1)"
      ],
      "execution_count": 0,
      "outputs": [
        {
          "output_type": "stream",
          "text": [
            "/usr/local/lib/python3.6/dist-packages/sklearn/svm/base.py:196: FutureWarning: The default value of gamma will change from 'auto' to 'scale' in version 0.22 to account better for unscaled features. Set gamma explicitly to 'auto' or 'scale' to avoid this warning.\n",
            "  \"avoid this warning.\", FutureWarning)\n"
          ],
          "name": "stderr"
        },
        {
          "output_type": "stream",
          "text": [
            "140.75638341903687\n",
            "162.14497423171997\n"
          ],
          "name": "stdout"
        }
      ]
    },
    {
      "metadata": {
        "id": "RdNKZpVXrTNr",
        "colab_type": "code",
        "outputId": "fb37b315-e641-4ea8-c63c-2ad6402768f5",
        "colab": {}
      },
      "cell_type": "code",
      "source": [
        ""
      ],
      "execution_count": 0,
      "outputs": [
        {
          "output_type": "stream",
          "text": [
            "0.018935680389404297\n"
          ],
          "name": "stdout"
        }
      ]
    },
    {
      "metadata": {
        "id": "jIovCx0YrTNt",
        "colab_type": "code",
        "colab": {}
      },
      "cell_type": "code",
      "source": [
        "#compute the mean f1-score\n",
        "def f1score(Ypred,Ytest):\n",
        "    f1 = -1*np.ones(5)\n",
        "    f1score = -1\n",
        "    for i in range(5):\n",
        "        if (Ypred == i).sum():\n",
        "            tp = np.sum((Ypred == Ytest)[Ypred == i])\n",
        "            fp = np.sum((Ypred != Ytest)[Ypred == i])\n",
        "            fn = np.sum((Ypred != Ytest)[Ytest == i])\n",
        "            p = tp/(tp + fp)\n",
        "            r = tp/(tp + fn)\n",
        "            if p+r != 0: f1[i] = 2* (p*r)/(p+r)\n",
        "            else: f1[i] = 0\n",
        "\n",
        "    return f1[f1 != -1].mean()\n",
        "\n",
        "#cross validation\n",
        "def crossv(model,data,y):\n",
        "    f1sc = np.zeros(10)\n",
        "    indx = int(num_samples/10)\n",
        "    data, y = shuffle(data,y)\n",
        "    for i in tqdm(range(10)):\n",
        "        model.__init__()\n",
        "        model.fit(np.concatenate((data[:i*indx],data[(i+1)*indx:])),np.concatenate((y[:i*indx],y[(i+1)*indx:])))\n",
        "        f1sc[i] = f1score(model.predict(data[i*indx:(i+1)*indx]),y[i*indx:(i+1)*indx])\n",
        "    return f1sc"
      ],
      "execution_count": 0,
      "outputs": []
    },
    {
      "metadata": {
        "id": "jz0gIx1brTNw",
        "colab_type": "code",
        "outputId": "3cd7fcd6-9677-4e29-e9c1-a0edf1dd186f",
        "colab": {
          "base_uri": "https://localhost:8080/",
          "height": 34
        }
      },
      "cell_type": "code",
      "source": [
        "f1score(Ypred,Ytest)"
      ],
      "execution_count": 0,
      "outputs": [
        {
          "output_type": "execute_result",
          "data": {
            "text/plain": [
              "0.5160980281365399"
            ]
          },
          "metadata": {
            "tags": []
          },
          "execution_count": 36
        }
      ]
    },
    {
      "metadata": {
        "id": "RRyKyxpsrTNz",
        "colab_type": "code",
        "outputId": "ee8df5da-02c0-425c-8791-1536b4329e56",
        "colab": {
          "base_uri": "https://localhost:8080/",
          "height": 67
        }
      },
      "cell_type": "code",
      "source": [
        "crossv(rf,D,Y)"
      ],
      "execution_count": 0,
      "outputs": [
        {
          "output_type": "stream",
          "text": [
            "100%|██████████| 10/10 [03:34<00:00, 21.49s/it]\n"
          ],
          "name": "stderr"
        },
        {
          "output_type": "execute_result",
          "data": {
            "text/plain": [
              "array([0.54549814, 0.52614041, 0.54597001, 0.5436521 , 0.54415459,\n",
              "       0.54011176, 0.54779453, 0.54995826, 0.54992048, 0.54646251])"
            ]
          },
          "metadata": {
            "tags": []
          },
          "execution_count": 38
        }
      ]
    },
    {
      "metadata": {
        "id": "Sde6cjAmrTN0",
        "colab_type": "code",
        "colab": {}
      },
      "cell_type": "code",
      "source": [
        ""
      ],
      "execution_count": 0,
      "outputs": []
    },
    {
      "metadata": {
        "id": "82uoii88rTN4",
        "colab_type": "text"
      },
      "cell_type": "markdown",
      "source": [
        "### Writing the submission file"
      ]
    },
    {
      "metadata": {
        "id": "SycWDDaKrTN7",
        "colab_type": "code",
        "colab": {}
      },
      "cell_type": "code",
      "source": [
        "#Import the test data\n",
        "data_test = h5py.File(\"data/test.h5\",'r')\n",
        "\n",
        "accX_val = data_test['accelerometer_x']\n",
        "accY_val = data_test['accelerometer_y']\n",
        "accZ_val = data_test['accelerometer_z']\n",
        "eeg1_val = data_test['eeg_1']\n",
        "eeg2_val = data_test['eeg_2']\n",
        "eeg3_val = data_test['eeg_3']\n",
        "eeg4_val = data_test['eeg_4']\n",
        "eeg5_val = data_test['eeg_5']\n",
        "eeg6_val = data_test['eeg_6']\n",
        "eeg7_val = data_test['eeg_7']\n",
        "pulse_val = data_test['pulse_oximeter_infrared']"
      ],
      "execution_count": 0,
      "outputs": []
    },
    {
      "metadata": {
        "id": "0YZsgdFVrTN8",
        "colab_type": "code",
        "outputId": "e52551cf-c378-4a33-cb27-6fd417b37699",
        "colab": {
          "base_uri": "https://localhost:8080/",
          "height": 34
        }
      },
      "cell_type": "code",
      "source": [
        "num_val = accX_val.shape[0]\n",
        "num_val"
      ],
      "execution_count": 0,
      "outputs": [
        {
          "output_type": "execute_result",
          "data": {
            "text/plain": [
              "37439"
            ]
          },
          "metadata": {
            "tags": []
          },
          "execution_count": 40
        }
      ]
    },
    {
      "metadata": {
        "id": "rsMMYKsyrTOA",
        "colab_type": "code",
        "outputId": "e459ceae-575a-423d-a4cc-85fbb4d89ef7",
        "colab": {
          "base_uri": "https://localhost:8080/",
          "height": 67
        }
      },
      "cell_type": "code",
      "source": [
        "\n",
        "#training the model on all the training data\n",
        "model_final = model()\n",
        "\n",
        "t1 = time.time()\n",
        "model_final.fit(D,Y)\n",
        "print(\"Training time: \",time.time()-t1)\n",
        "\n",
        "Y_val = np.zeros(num_val)\n",
        "pack = 100\n",
        "\n",
        "for j in range(num_val%pack):\n",
        "  i = num_val -j -1\n",
        "  signals_val1 = [eeg1_val[i].reshape(1,1500),eeg2_val[i].reshape(1,1500),\n",
        "                 eeg3_val[i].reshape(1,1500),eeg4_val[i].reshape(1,1500),eeg5_val[i].reshape(1,1500),\n",
        "                 eeg6_val[i].reshape(1,1500),eeg7_val[i].reshape(1,1500)]\n",
        "  #Preprocessing\n",
        "  Pval = proc(signals_val1)\n",
        "  \n",
        "  #Extracting features\n",
        "  signals_val = [accX_val[i].reshape(1,300),accY_val[i].reshape(1,300),\n",
        "                 accZ_val[i].reshape(1,300),pulse_val[i].reshape(1,300)]\n",
        "  for j in range(7):\n",
        "      for k in range(3):\n",
        "          signals_val.append(Pval[k][j])\n",
        "  Dval, pca = feat_extract(signals_val,-1)\n",
        "  \n",
        "  #predicting the test\n",
        "  Y_val[i] = model_final.predict(Dval)\n",
        " \n",
        "for i in tqdm(range(int(num_val/pack))):\n",
        "  \n",
        "  signals_val1 = [eeg1_val[i*pack:(i+1)*pack].reshape(pack,1500),eeg2_val[i*pack:(i+1)*pack].reshape(pack,1500),\n",
        "                 eeg3_val[i*pack:(i+1)*pack].reshape(pack,1500),eeg4_val[i*pack:(i+1)*pack].reshape(pack,1500),eeg5_val[i*pack:(i+1)*pack].reshape(pack,1500),\n",
        "                 eeg6_val[i*pack:(i+1)*pack].reshape(pack,1500),eeg7_val[i*pack:(i+1)*pack].reshape(pack,1500)]\n",
        "  #Preprocessing\n",
        "  Pval = proc(signals_val1)\n",
        "  \n",
        "  #Extracting features\n",
        "  signals_val = [accX_val[i*pack:(i+1)*pack].reshape(pack,300),accY_val[i*pack:(i+1)*pack].reshape(pack,300),\n",
        "                 accZ_val[i*pack:(i+1)*pack].reshape(pack,300),pulse_val[i*pack:(i+1)*pack].reshape(pack,300)]\n",
        "  for j in range(7):\n",
        "      for k in range(3):\n",
        "          signals_val.append(Pval[k][j])\n",
        "  Dval, pca = feat_extract(signals_val,-1)\n",
        "  \n",
        "  #predicting the test\n",
        "  Y_val[i*pack:(i+1)*pack] = model_final.predict(Dval)\n",
        "\n",
        "\n",
        "print(\"Prediciton time: \",time.time()-t1)"
      ],
      "execution_count": 0,
      "outputs": [
        {
          "output_type": "stream",
          "text": [
            "Training time:  23.848984003067017\n"
          ],
          "name": "stdout"
        },
        {
          "output_type": "stream",
          "text": [
            "100%|██████████| 374/374 [07:28<00:00,  1.15s/it]"
          ],
          "name": "stderr"
        },
        {
          "output_type": "stream",
          "text": [
            "Prediciton time:  487.72379517555237\n"
          ],
          "name": "stdout"
        },
        {
          "output_type": "stream",
          "text": [
            "\n"
          ],
          "name": "stderr"
        }
      ]
    },
    {
      "metadata": {
        "id": "xGcOOGhErvRD",
        "colab_type": "code",
        "colab": {}
      },
      "cell_type": "code",
      "source": [
        "Y_val = Y_val.astype(int)"
      ],
      "execution_count": 0,
      "outputs": []
    },
    {
      "metadata": {
        "id": "LzX8ROy_rTOC",
        "colab_type": "code",
        "colab": {}
      },
      "cell_type": "code",
      "source": [
        "#produces the CSV file to submit\n",
        "\n",
        "num_samples_val = Y_val.shape[0]\n",
        "with open('tosubmit.csv', 'w', newline = '') as csvfile:\n",
        "    writer = csv.writer(csvfile, dialect = \"excel\")\n",
        "    writer.writerow([\"id\",\"sleep_stage\"])\n",
        "    for i in range(num_samples_val):\n",
        "        writer.writerow([i,Y_val[i]])"
      ],
      "execution_count": 0,
      "outputs": []
    },
    {
      "metadata": {
        "id": "7hUNRSn23woZ",
        "colab_type": "text"
      },
      "cell_type": "markdown",
      "source": [
        ""
      ]
    }
  ]
}